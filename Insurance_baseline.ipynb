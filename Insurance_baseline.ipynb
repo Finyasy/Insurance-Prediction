{
 "cells": [
  {
   "cell_type": "code",
   "execution_count": 7,
   "metadata": {},
   "outputs": [],
   "source": [
    "import pandas as pd #for data importing and manipulation\n",
    "import numpy as np #for data manipulation and cleaning\n",
    "import seaborn as sns #data visualization\n",
    "import matplotlib.pyplot as plt #data visualization\n",
    "%matplotlib inline"
   ]
  },
  {
   "cell_type": "code",
   "execution_count": 8,
   "metadata": {},
   "outputs": [],
   "source": [
    "train=pd.read_csv('Data/train_data.csv')\n",
    "test=pd.read_csv('Data/test_data.csv')\n",
    "sub=pd.read_csv('Data/sample_submission.csv')"
   ]
  },
  {
   "cell_type": "code",
   "execution_count": 9,
   "metadata": {},
   "outputs": [],
   "source": [
    "from catboost import CatBoostClassifier"
   ]
  },
  {
   "cell_type": "code",
   "execution_count": 10,
   "metadata": {},
   "outputs": [],
   "source": [
    "#imputting missing values for both train and test\n",
    "train.fillna(0,inplace=True)\n",
    "test.fillna(0,inplace=True)"
   ]
  },
  {
   "cell_type": "code",
   "execution_count": 11,
   "metadata": {},
   "outputs": [
    {
     "data": {
      "text/html": [
       "<div>\n",
       "<style scoped>\n",
       "    .dataframe tbody tr th:only-of-type {\n",
       "        vertical-align: middle;\n",
       "    }\n",
       "\n",
       "    .dataframe tbody tr th {\n",
       "        vertical-align: top;\n",
       "    }\n",
       "\n",
       "    .dataframe thead th {\n",
       "        text-align: right;\n",
       "    }\n",
       "</style>\n",
       "<table border=\"1\" class=\"dataframe\">\n",
       "  <thead>\n",
       "    <tr style=\"text-align: right;\">\n",
       "      <th></th>\n",
       "      <th>Customer Id</th>\n",
       "      <th>YearOfObservation</th>\n",
       "      <th>Insured_Period</th>\n",
       "      <th>Residential</th>\n",
       "      <th>Building_Painted</th>\n",
       "      <th>Building_Fenced</th>\n",
       "      <th>Garden</th>\n",
       "      <th>Settlement</th>\n",
       "      <th>Building Dimension</th>\n",
       "      <th>Building_Type</th>\n",
       "      <th>Date_of_Occupancy</th>\n",
       "      <th>NumberOfWindows</th>\n",
       "      <th>Geo_Code</th>\n",
       "      <th>Claim</th>\n",
       "    </tr>\n",
       "  </thead>\n",
       "  <tbody>\n",
       "    <tr>\n",
       "      <th>0</th>\n",
       "      <td>H14663</td>\n",
       "      <td>2013</td>\n",
       "      <td>1.0</td>\n",
       "      <td>0</td>\n",
       "      <td>N</td>\n",
       "      <td>V</td>\n",
       "      <td>V</td>\n",
       "      <td>U</td>\n",
       "      <td>290.0</td>\n",
       "      <td>1</td>\n",
       "      <td>1960.0</td>\n",
       "      <td>.</td>\n",
       "      <td>1053</td>\n",
       "      <td>0</td>\n",
       "    </tr>\n",
       "    <tr>\n",
       "      <th>1</th>\n",
       "      <td>H2037</td>\n",
       "      <td>2015</td>\n",
       "      <td>1.0</td>\n",
       "      <td>0</td>\n",
       "      <td>V</td>\n",
       "      <td>N</td>\n",
       "      <td>O</td>\n",
       "      <td>R</td>\n",
       "      <td>490.0</td>\n",
       "      <td>1</td>\n",
       "      <td>1850.0</td>\n",
       "      <td>4</td>\n",
       "      <td>1053</td>\n",
       "      <td>0</td>\n",
       "    </tr>\n",
       "    <tr>\n",
       "      <th>2</th>\n",
       "      <td>H3802</td>\n",
       "      <td>2014</td>\n",
       "      <td>1.0</td>\n",
       "      <td>0</td>\n",
       "      <td>N</td>\n",
       "      <td>V</td>\n",
       "      <td>V</td>\n",
       "      <td>U</td>\n",
       "      <td>595.0</td>\n",
       "      <td>1</td>\n",
       "      <td>1960.0</td>\n",
       "      <td>.</td>\n",
       "      <td>1053</td>\n",
       "      <td>0</td>\n",
       "    </tr>\n",
       "    <tr>\n",
       "      <th>3</th>\n",
       "      <td>H3834</td>\n",
       "      <td>2013</td>\n",
       "      <td>1.0</td>\n",
       "      <td>0</td>\n",
       "      <td>V</td>\n",
       "      <td>V</td>\n",
       "      <td>V</td>\n",
       "      <td>U</td>\n",
       "      <td>2840.0</td>\n",
       "      <td>1</td>\n",
       "      <td>1960.0</td>\n",
       "      <td>.</td>\n",
       "      <td>1053</td>\n",
       "      <td>0</td>\n",
       "    </tr>\n",
       "    <tr>\n",
       "      <th>4</th>\n",
       "      <td>H5053</td>\n",
       "      <td>2014</td>\n",
       "      <td>1.0</td>\n",
       "      <td>0</td>\n",
       "      <td>V</td>\n",
       "      <td>N</td>\n",
       "      <td>O</td>\n",
       "      <td>R</td>\n",
       "      <td>680.0</td>\n",
       "      <td>1</td>\n",
       "      <td>1800.0</td>\n",
       "      <td>3</td>\n",
       "      <td>1053</td>\n",
       "      <td>0</td>\n",
       "    </tr>\n",
       "  </tbody>\n",
       "</table>\n",
       "</div>"
      ],
      "text/plain": [
       "  Customer Id  YearOfObservation  Insured_Period  Residential  \\\n",
       "0      H14663               2013             1.0            0   \n",
       "1       H2037               2015             1.0            0   \n",
       "2       H3802               2014             1.0            0   \n",
       "3       H3834               2013             1.0            0   \n",
       "4       H5053               2014             1.0            0   \n",
       "\n",
       "  Building_Painted Building_Fenced Garden Settlement  Building Dimension  \\\n",
       "0                N               V      V          U               290.0   \n",
       "1                V               N      O          R               490.0   \n",
       "2                N               V      V          U               595.0   \n",
       "3                V               V      V          U              2840.0   \n",
       "4                V               N      O          R               680.0   \n",
       "\n",
       "   Building_Type  Date_of_Occupancy NumberOfWindows Geo_Code  Claim  \n",
       "0              1             1960.0               .     1053      0  \n",
       "1              1             1850.0               4     1053      0  \n",
       "2              1             1960.0               .     1053      0  \n",
       "3              1             1960.0               .     1053      0  \n",
       "4              1             1800.0               3     1053      0  "
      ]
     },
     "execution_count": 11,
     "metadata": {},
     "output_type": "execute_result"
    }
   ],
   "source": [
    "train.head()"
   ]
  },
  {
   "cell_type": "code",
   "execution_count": 12,
   "metadata": {},
   "outputs": [
    {
     "name": "stdout",
     "output_type": "stream",
     "text": [
      "0       H11920\n",
      "1       H11921\n",
      "2        H9805\n",
      "3        H7493\n",
      "4        H7494\n",
      "         ...  \n",
      "3064    H11583\n",
      "3065    H11720\n",
      "3066    H11721\n",
      "3067    H12408\n",
      "3068     H9021\n",
      "Name: Customer Id, Length: 3069, dtype: object\n"
     ]
    }
   ],
   "source": [
    "test_id = test[\"Customer Id\"]\n",
    "print(test_id)"
   ]
  },
  {
   "cell_type": "code",
   "execution_count": 13,
   "metadata": {},
   "outputs": [],
   "source": [
    "train = train.drop('Customer Id',axis=1)\n",
    "test = test.drop('Customer Id',axis=1)"
   ]
  },
  {
   "cell_type": "code",
   "execution_count": 14,
   "metadata": {},
   "outputs": [
    {
     "name": "stdout",
     "output_type": "stream",
     "text": [
      "0       0\n",
      "1       0\n",
      "2       0\n",
      "3       0\n",
      "4       0\n",
      "       ..\n",
      "7155    0\n",
      "7156    1\n",
      "7157    0\n",
      "7158    0\n",
      "7159    0\n",
      "Name: Claim, Length: 7160, dtype: int64\n"
     ]
    }
   ],
   "source": [
    "X = train.drop('Claim',axis=1)\n",
    "y = train.Claim\n",
    "print(y)"
   ]
  },
  {
   "cell_type": "code",
   "execution_count": 15,
   "metadata": {},
   "outputs": [],
   "source": [
    "from sklearn.model_selection import train_test_split"
   ]
  },
  {
   "cell_type": "code",
   "execution_count": 16,
   "metadata": {},
   "outputs": [],
   "source": [
    "# Split the data into 30% validation and 70% training\n",
    "X_train,X_val,y_train,y_val = train_test_split(X,y,test_size=0.3,random_state=101)"
   ]
  },
  {
   "cell_type": "code",
   "execution_count": 17,
   "metadata": {},
   "outputs": [],
   "source": [
    "categorical_features_indices = np.where(X.dtypes != np.float)[0]"
   ]
  },
  {
   "cell_type": "code",
   "execution_count": 18,
   "metadata": {},
   "outputs": [],
   "source": [
    "#a=np.arange(10)\n",
    "#a"
   ]
  },
  {
   "cell_type": "code",
   "execution_count": 19,
   "metadata": {},
   "outputs": [],
   "source": [
    "#np.where([[True,False],[True,True]],\n",
    "        #[[1,2],[3,4]],\n",
    "        #[[9,8],[7,6]])"
   ]
  },
  {
   "cell_type": "code",
   "execution_count": 20,
   "metadata": {},
   "outputs": [],
   "source": [
    "#x,y = np.ogrid[:3,:4]\n",
    "#np.where(x<y,x,10+y)"
   ]
  },
  {
   "cell_type": "code",
   "execution_count": 21,
   "metadata": {},
   "outputs": [],
   "source": [
    "model=CatBoostClassifier(iterations=800, #leaf_estimation_iterations=10,#800\n",
    "                              learning_rate=0.1,\n",
    "                              depth=4,#loss_function='MultiClass',#,scale_pos_weight=200,\n",
    "                             #l2_leaf_reg=5,\n",
    "                             bootstrap_type='Bernoulli',\n",
    "                              subsample=0.9,\n",
    "                              eval_metric='AUC',\n",
    "                              metric_period=20,\n",
    "                                   #class_weight s=0,\n",
    "                              #od_type='Iter',\n",
    "                              #od_wait=45,\n",
    "                              #random_seed=10,\n",
    "                              allow_writing_files=False)"
   ]
  },
  {
   "cell_type": "code",
   "execution_count": null,
   "metadata": {},
   "outputs": [
    {
     "name": "stdout",
     "output_type": "stream",
     "text": [
      "0:\ttest: 0.6444013\tbest: 0.6444013 (0)\ttotal: 210ms\tremaining: 2m 47s\n",
      "20:\ttest: 0.7211128\tbest: 0.7211128 (20)\ttotal: 1.01s\tremaining: 37.3s\n",
      "40:\ttest: 0.7260986\tbest: 0.7260986 (40)\ttotal: 2.01s\tremaining: 37.3s\n",
      "60:\ttest: 0.7268057\tbest: 0.7268057 (60)\ttotal: 3.03s\tremaining: 36.7s\n",
      "80:\ttest: 0.7277547\tbest: 0.7277547 (80)\ttotal: 4.05s\tremaining: 36s\n",
      "100:\ttest: 0.7275726\tbest: 0.7277547 (80)\ttotal: 4.92s\tremaining: 34.1s\n",
      "120:\ttest: 0.7274101\tbest: 0.7277547 (80)\ttotal: 5.71s\tremaining: 32s\n",
      "140:\ttest: 0.7270968\tbest: 0.7277547 (80)\ttotal: 6.65s\tremaining: 31.1s\n",
      "160:\ttest: 0.7265121\tbest: 0.7277547 (80)\ttotal: 7.45s\tremaining: 29.6s\n",
      "180:\ttest: 0.7264765\tbest: 0.7277547 (80)\ttotal: 8.47s\tremaining: 29s\n",
      "200:\ttest: 0.7265811\tbest: 0.7277547 (80)\ttotal: 9.31s\tremaining: 27.8s\n",
      "220:\ttest: 0.7251520\tbest: 0.7277547 (80)\ttotal: 10.2s\tremaining: 26.6s\n",
      "240:\ttest: 0.7245255\tbest: 0.7277547 (80)\ttotal: 11s\tremaining: 25.4s\n",
      "260:\ttest: 0.7254474\tbest: 0.7277547 (80)\ttotal: 11.8s\tremaining: 24.4s\n",
      "280:\ttest: 0.7264100\tbest: 0.7277547 (80)\ttotal: 12.6s\tremaining: 23.3s\n",
      "300:\ttest: 0.7256444\tbest: 0.7277547 (80)\ttotal: 13.4s\tremaining: 22.2s\n",
      "320:\ttest: 0.7234017\tbest: 0.7277547 (80)\ttotal: 14.3s\tremaining: 21.3s\n",
      "340:\ttest: 0.7214766\tbest: 0.7277547 (80)\ttotal: 15.1s\tremaining: 20.3s\n",
      "360:\ttest: 0.7205140\tbest: 0.7277547 (80)\ttotal: 15.9s\tremaining: 19.4s\n",
      "380:\ttest: 0.7204586\tbest: 0.7277547 (80)\ttotal: 16.8s\tremaining: 18.5s\n",
      "400:\ttest: 0.7187415\tbest: 0.7277547 (80)\ttotal: 17.6s\tremaining: 17.5s\n",
      "420:\ttest: 0.7178627\tbest: 0.7277547 (80)\ttotal: 18.5s\tremaining: 16.7s\n",
      "440:\ttest: 0.7183489\tbest: 0.7277547 (80)\ttotal: 19.5s\tremaining: 15.9s\n",
      "460:\ttest: 0.7170035\tbest: 0.7277547 (80)\ttotal: 20.4s\tremaining: 15s\n",
      "480:\ttest: 0.7154132\tbest: 0.7277547 (80)\ttotal: 21.4s\tremaining: 14.2s\n",
      "500:\ttest: 0.7159597\tbest: 0.7277547 (80)\ttotal: 22.4s\tremaining: 13.4s\n",
      "520:\ttest: 0.7149332\tbest: 0.7277547 (80)\ttotal: 23.4s\tremaining: 12.5s\n",
      "540:\ttest: 0.7147362\tbest: 0.7277547 (80)\ttotal: 24.5s\tremaining: 11.7s\n",
      "560:\ttest: 0.7152569\tbest: 0.7277547 (80)\ttotal: 25.5s\tremaining: 10.9s\n",
      "580:\ttest: 0.7141343\tbest: 0.7277547 (80)\ttotal: 26.4s\tremaining: 9.94s\n",
      "600:\ttest: 0.7137810\tbest: 0.7277547 (80)\ttotal: 27.5s\tremaining: 9.12s\n",
      "620:\ttest: 0.7126400\tbest: 0.7277547 (80)\ttotal: 28.6s\tremaining: 8.24s\n",
      "640:\ttest: 0.7129834\tbest: 0.7277547 (80)\ttotal: 29.6s\tremaining: 7.35s\n",
      "660:\ttest: 0.7112368\tbest: 0.7277547 (80)\ttotal: 30.7s\tremaining: 6.46s\n",
      "680:\ttest: 0.7100022\tbest: 0.7277547 (80)\ttotal: 31.5s\tremaining: 5.51s\n",
      "700:\ttest: 0.7098176\tbest: 0.7277547 (80)\ttotal: 32.6s\tremaining: 4.61s\n",
      "720:\ttest: 0.7080943\tbest: 0.7277547 (80)\ttotal: 34s\tremaining: 3.72s\n",
      "740:\ttest: 0.7065040\tbest: 0.7277547 (80)\ttotal: 35.4s\tremaining: 2.82s\n",
      "760:\ttest: 0.7050319\tbest: 0.7277547 (80)\ttotal: 36.8s\tremaining: 1.88s\n",
      "780:\ttest: 0.7038551\tbest: 0.7277547 (80)\ttotal: 38.2s\tremaining: 928ms\n",
      "799:\ttest: 0.7012063\tbest: 0.7277547 (80)\ttotal: 39.3s\tremaining: 0us\n",
      "\n",
      "bestTest = 0.7277547328\n",
      "bestIteration = 80\n",
      "\n",
      "Shrink model to first 81 iterations.\n"
     ]
    }
   ],
   "source": [
    "model.fit(X_train, y_train, cat_features=categorical_features_indices, eval_set=(X_val, y_val))"
   ]
  },
  {
   "cell_type": "code",
   "execution_count": null,
   "metadata": {},
   "outputs": [],
   "source": [
    "y_pred=model.predict_proba(test)[:,1]"
   ]
  },
  {
   "cell_type": "code",
   "execution_count": null,
   "metadata": {},
   "outputs": [],
   "source": [
    "from sklearn.metrics import roc_auc_score"
   ]
  },
  {
   "cell_type": "code",
   "execution_count": null,
   "metadata": {},
   "outputs": [],
   "source": [
    "print(roc_auc_score(y_val,model.predict_proba(X_val)[:,1]))"
   ]
  },
  {
   "cell_type": "code",
   "execution_count": null,
   "metadata": {},
   "outputs": [],
   "source": [
    "fea_imp = pd.DataFrame({'imp':model.feature_importances_,'col':X.columns})\n",
    "fea_imp = fea_imp.sort_values(['imp','col'],ascending=[True,False]).iloc[-30:]\n",
    "_ = fea_imp.plot(kind='barh',x='col',y='imp',figsize=(20,10))\n",
    "plt.savefig('catboost_feature_importance.png')"
   ]
  },
  {
   "cell_type": "code",
   "execution_count": null,
   "metadata": {},
   "outputs": [],
   "source": [
    "d={\"Customer Id\":test_id,'Claim': y_pred}\n",
    "test_predictions = pd.DataFrame(data=d)\n",
    "test_predictions = test_predictions[[\"Customer Id\",\"Claim\"]]"
   ]
  },
  {
   "cell_type": "code",
   "execution_count": null,
   "metadata": {},
   "outputs": [],
   "source": [
    "test_predictions.head()"
   ]
  },
  {
   "cell_type": "code",
   "execution_count": null,
   "metadata": {},
   "outputs": [],
   "source": [
    "test_predictions.to_csv('i2.csv',index=False)"
   ]
  },
  {
   "cell_type": "code",
   "execution_count": null,
   "metadata": {},
   "outputs": [],
   "source": []
  }
 ],
 "metadata": {
  "kernelspec": {
   "display_name": "Python 3",
   "language": "python",
   "name": "python3"
  },
  "language_info": {
   "codemirror_mode": {
    "name": "ipython",
    "version": 3
   },
   "file_extension": ".py",
   "mimetype": "text/x-python",
   "name": "python",
   "nbconvert_exporter": "python",
   "pygments_lexer": "ipython3",
   "version": "3.8.3"
  }
 },
 "nbformat": 4,
 "nbformat_minor": 4
}
